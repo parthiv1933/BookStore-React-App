{
  "cells": [
    {
      "cell_type": "markdown",
      "metadata": {
        "id": "view-in-github",
        "colab_type": "text"
      },
      "source": [
        "<a href=\"https://colab.research.google.com/github/parthiv1933/BookStore-React-App/blob/master/DA6401_Assignment_1.ipynb\" target=\"_parent\"><img src=\"https://colab.research.google.com/assets/colab-badge.svg\" alt=\"Open In Colab\"/></a>"
      ]
    },
    {
      "cell_type": "code",
      "execution_count": 1,
      "metadata": {
        "colab": {
          "base_uri": "https://localhost:8080/"
        },
        "id": "dpKnh2kD8xPq",
        "outputId": "df8528c1-b407-415f-b036-4044dc232d98"
      },
      "outputs": [
        {
          "output_type": "stream",
          "name": "stdout",
          "text": [
            "Requirement already satisfied: wandb in /usr/local/lib/python3.11/dist-packages (0.19.7)\n",
            "Requirement already satisfied: click!=8.0.0,>=7.1 in /usr/local/lib/python3.11/dist-packages (from wandb) (8.1.8)\n",
            "Requirement already satisfied: docker-pycreds>=0.4.0 in /usr/local/lib/python3.11/dist-packages (from wandb) (0.4.0)\n",
            "Requirement already satisfied: gitpython!=3.1.29,>=1.0.0 in /usr/local/lib/python3.11/dist-packages (from wandb) (3.1.44)\n",
            "Requirement already satisfied: platformdirs in /usr/local/lib/python3.11/dist-packages (from wandb) (4.3.6)\n",
            "Requirement already satisfied: protobuf!=4.21.0,!=5.28.0,<6,>=3.19.0 in /usr/local/lib/python3.11/dist-packages (from wandb) (4.25.6)\n",
            "Requirement already satisfied: psutil>=5.0.0 in /usr/local/lib/python3.11/dist-packages (from wandb) (5.9.5)\n",
            "Requirement already satisfied: pydantic<3,>=2.6 in /usr/local/lib/python3.11/dist-packages (from wandb) (2.10.6)\n",
            "Requirement already satisfied: pyyaml in /usr/local/lib/python3.11/dist-packages (from wandb) (6.0.2)\n",
            "Requirement already satisfied: requests<3,>=2.0.0 in /usr/local/lib/python3.11/dist-packages (from wandb) (2.32.3)\n",
            "Requirement already satisfied: sentry-sdk>=2.0.0 in /usr/local/lib/python3.11/dist-packages (from wandb) (2.22.0)\n",
            "Requirement already satisfied: setproctitle in /usr/local/lib/python3.11/dist-packages (from wandb) (1.3.5)\n",
            "Requirement already satisfied: setuptools in /usr/local/lib/python3.11/dist-packages (from wandb) (75.1.0)\n",
            "Requirement already satisfied: typing-extensions<5,>=4.4 in /usr/local/lib/python3.11/dist-packages (from wandb) (4.12.2)\n",
            "Requirement already satisfied: six>=1.4.0 in /usr/local/lib/python3.11/dist-packages (from docker-pycreds>=0.4.0->wandb) (1.17.0)\n",
            "Requirement already satisfied: gitdb<5,>=4.0.1 in /usr/local/lib/python3.11/dist-packages (from gitpython!=3.1.29,>=1.0.0->wandb) (4.0.12)\n",
            "Requirement already satisfied: annotated-types>=0.6.0 in /usr/local/lib/python3.11/dist-packages (from pydantic<3,>=2.6->wandb) (0.7.0)\n",
            "Requirement already satisfied: pydantic-core==2.27.2 in /usr/local/lib/python3.11/dist-packages (from pydantic<3,>=2.6->wandb) (2.27.2)\n",
            "Requirement already satisfied: charset-normalizer<4,>=2 in /usr/local/lib/python3.11/dist-packages (from requests<3,>=2.0.0->wandb) (3.4.1)\n",
            "Requirement already satisfied: idna<4,>=2.5 in /usr/local/lib/python3.11/dist-packages (from requests<3,>=2.0.0->wandb) (3.10)\n",
            "Requirement already satisfied: urllib3<3,>=1.21.1 in /usr/local/lib/python3.11/dist-packages (from requests<3,>=2.0.0->wandb) (2.3.0)\n",
            "Requirement already satisfied: certifi>=2017.4.17 in /usr/local/lib/python3.11/dist-packages (from requests<3,>=2.0.0->wandb) (2025.1.31)\n",
            "Requirement already satisfied: smmap<6,>=3.0.1 in /usr/local/lib/python3.11/dist-packages (from gitdb<5,>=4.0.1->gitpython!=3.1.29,>=1.0.0->wandb) (5.0.2)\n",
            "\u001b[34m\u001b[1mwandb\u001b[0m: Logging into wandb.ai. (Learn how to deploy a W&B server locally: https://wandb.me/wandb-server)\n",
            "\u001b[34m\u001b[1mwandb\u001b[0m: You can find your API key in your browser here: https://wandb.ai/authorize\n",
            "\u001b[34m\u001b[1mwandb\u001b[0m: Paste an API key from your profile and hit enter, or press ctrl+c to quit: \n",
            "\u001b[34m\u001b[1mwandb\u001b[0m: No netrc file found, creating one.\n",
            "\u001b[34m\u001b[1mwandb\u001b[0m: Appending key for api.wandb.ai to your netrc file: /root/.netrc\n",
            "\u001b[34m\u001b[1mwandb\u001b[0m: Currently logged in as: \u001b[33mparthiv1933\u001b[0m (\u001b[33mparthiv1933-indian-institute-of-technology-madras\u001b[0m) to \u001b[32mhttps://api.wandb.ai\u001b[0m. Use \u001b[1m`wandb login --relogin`\u001b[0m to force relogin\n"
          ]
        }
      ],
      "source": [
        "!pip install wandb\n",
        "!wandb login"
      ]
    },
    {
      "cell_type": "code",
      "execution_count": 2,
      "metadata": {
        "id": "8TlZNzt4zt-I"
      },
      "outputs": [],
      "source": [
        "from keras.datasets import fashion_mnist, mnist\n",
        "import matplotlib.pyplot as plt\n",
        "from sklearn.model_selection import train_test_split\n",
        "import numpy as np\n",
        "import wandb\n",
        "import seaborn as sn"
      ]
    },
    {
      "cell_type": "code",
      "execution_count": null,
      "metadata": {
        "colab": {
          "base_uri": "https://localhost:8080/",
          "height": 86
        },
        "id": "jgaiZ6xV9HOJ",
        "outputId": "bfd0accf-c998-4e60-e780-1de5e465ebc1"
      },
      "outputs": [
        {
          "data": {
            "text/html": [],
            "text/plain": [
              "<IPython.core.display.HTML object>"
            ]
          },
          "metadata": {},
          "output_type": "display_data"
        },
        {
          "data": {
            "text/html": [
              " View run <strong style=\"color:#cdcd00\">Q-1(test)</strong> at: <a href='https://wandb.ai/parthiv1933-indian-institute-of-technology-madras/DA6401_Assignment_1/runs/lguaypqr' target=\"_blank\">https://wandb.ai/parthiv1933-indian-institute-of-technology-madras/DA6401_Assignment_1/runs/lguaypqr</a><br> View project at: <a href='https://wandb.ai/parthiv1933-indian-institute-of-technology-madras/DA6401_Assignment_1' target=\"_blank\">https://wandb.ai/parthiv1933-indian-institute-of-technology-madras/DA6401_Assignment_1</a><br>Synced 5 W&B file(s), 10 media file(s), 0 artifact file(s) and 0 other file(s)"
            ],
            "text/plain": [
              "<IPython.core.display.HTML object>"
            ]
          },
          "metadata": {},
          "output_type": "display_data"
        },
        {
          "data": {
            "text/html": [
              "Find logs at: <code>./wandb/run-20250308_172003-lguaypqr/logs</code>"
            ],
            "text/plain": [
              "<IPython.core.display.HTML object>"
            ]
          },
          "metadata": {},
          "output_type": "display_data"
        }
      ],
      "source": [
        "#Question-1\n",
        "\n",
        "import numpy as np\n",
        "from keras.datasets import fashion_mnist\n",
        "import wandb\n",
        "\n",
        "wandb.init(project=\"DA6401_Assignment_1\",name=\"Q-1(test)\")\n",
        "\n",
        "\n",
        "def load_data(dataset='fashion_mnist', purpose='train'):\n",
        "    dataset, purpose = dataset.lower(), purpose.lower()\n",
        "\n",
        "    data = fashion_mnist.load_data()\n",
        "    (train_data, train_labels), (test_data, test_labels) = data\n",
        "\n",
        "    if purpose == 'train':\n",
        "        return preprocess_data(train_data, train_labels)\n",
        "    elif purpose == 'test':\n",
        "        return preprocess_data(test_data, test_labels)\n",
        "\n",
        "def preprocess_data(images, labels):\n",
        "    images = images.reshape(images.shape[0], -1) / 255.0\n",
        "    labels = np.eye(10)[labels]\n",
        "    return images, labels\n",
        "\n",
        "train_images, train_labels = load_data(purpose='train')\n",
        "test_images, test_labels = load_data(purpose='test')\n",
        "\n",
        "class_names = [\"T-shirt/top\", \"Trouser\", \"Pullover\", \"Dress\", \"Coat\",\n",
        "               \"Sandal\", \"Shirt\", \"Sneaker\", \"Bag\", \"Ankle boot\"]\n",
        "\n",
        "sample_images, sample_labels = [], []\n",
        "unique_labels = np.unique(train_labels, axis=0)\n",
        "\n",
        "for label in unique_labels:\n",
        "    index = np.argmax(np.all(train_labels == label, axis=1))  # Find first occurrence\n",
        "    sample_images.append(train_images[index])\n",
        "    sample_labels.append(class_names[np.argmax(label)])\n",
        "\n",
        "wandb.log({\n",
        "    \"For unique class sample images\": [\n",
        "        wandb.Image(img.reshape(28, 28), caption=label) for label, img in zip(sample_labels, sample_images)\n",
        "    ]\n",
        "})\n",
        "\n",
        "wandb.finish()\n"
      ]
    },
    {
      "cell_type": "code",
      "execution_count": 3,
      "metadata": {
        "id": "zFhGuNba674f"
      },
      "outputs": [],
      "source": [
        "def load_data(dataset='fashion_mnist', purpose='train'):\n",
        "  dataset=dataset.lower()\n",
        "  purpose=purpose.lower()\n",
        "  x,x_t,y,y_t = None,None,None,None\n",
        "\n",
        "  if dataset == 'fashion_mnist':\n",
        "    (x, y), (x_t, y_t) = fashion_mnist.load_data()\n",
        "  elif dataset == 'mnist':\n",
        "    (x, y), (x_t, y_t) = mnist.load_data()\n",
        "\n",
        "  if purpose == 'train':\n",
        "    x = x.reshape(x.shape[0], 784) / 255\n",
        "    y = np.eye(10)[y]\n",
        "    return x, y\n",
        "  elif purpose == 'test':\n",
        "    x_t = x_t.reshape(x_t.shape[0], 784) / 255\n",
        "    y_t = np.eye(10)[y_t]\n",
        "    return x_t, y_t"
      ]
    },
    {
      "cell_type": "code",
      "execution_count": 4,
      "metadata": {
        "id": "BnRe3-f_-g6v"
      },
      "outputs": [],
      "source": [
        "# #Question-2\n",
        "\n",
        "import numpy as np\n",
        "import math\n",
        "import random\n",
        "import matplotlib.pyplot as plt\n",
        "\n",
        "class FF_NN:\n",
        "    def __init__(self, param):\n",
        "        self.hidden_layers = param['hidden_lyrs']\n",
        "        self.neurons = param['neurons']\n",
        "        self.input_neurons = param['inpt_sz']\n",
        "        self.output_neurons = param['oupt_sz']\n",
        "        self.activation = param['activation']\n",
        "        self.output_activation = param['oupt_activation']\n",
        "        self.weight_initialisation = param['weight_initialisation']\n",
        "\n",
        "        self.weights, self.bias = [], []\n",
        "        self.initialize_weights()\n",
        "        self.initialize_bias()\n",
        "\n",
        "    def initialize_bias(self):\n",
        "        self.bias = [np.random.randn(self.neurons) for _ in range(self.hidden_layers)]\n",
        "        self.bias.append(np.random.randn(self.output_neurons))\n",
        "\n",
        "    def initialize_weights(self):\n",
        "        if self.weight_initialisation.lower() == 'random':\n",
        "            self.weights.append(np.random.randn(self.input_neurons, self.neurons))\n",
        "            self.weights.extend(np.random.randn(self.neurons, self.neurons) for _ in range(self.hidden_layers - 1))\n",
        "            self.weights.append(np.random.randn(self.neurons, self.output_neurons))\n",
        "        else:\n",
        "            self.setup_custom_weights()\n",
        "\n",
        "    def setup_custom_weights(self):\n",
        "        limit = np.sqrt(6 / (self.input_neurons + self.neurons))\n",
        "        self.weights.append(np.random.uniform(-limit, limit, (self.input_neurons, self.neurons)))\n",
        "        limit = np.sqrt(6 / (self.neurons + self.neurons))\n",
        "        self.weights.extend(np.random.uniform(-limit, limit, (self.neurons, self.neurons)) for _ in range(self.hidden_layers - 1))\n",
        "        limit = np.sqrt(6 / (self.neurons + self.output_neurons))\n",
        "        self.weights.append(np.random.uniform(-limit, limit, (self.neurons, self.output_neurons)))\n",
        "\n",
        "    def apply_activation(self, data):\n",
        "        act = self.activation.lower()\n",
        "        if act == 'sigmoid':\n",
        "            return 1 / (1 + np.exp(-np.clip(data, -500, 500)))\n",
        "        if act == 'relu':\n",
        "            return np.maximum(0, data)\n",
        "        if act == 'tanh':\n",
        "            return np.tanh(data)\n",
        "        return data  # identity activation\n",
        "\n",
        "    def apply_output_activation(self, data):\n",
        "        if self.output_activation.lower() == 'softmax':\n",
        "            exp_data = np.exp(np.clip(data, -500, 500))\n",
        "            return exp_data / np.sum(exp_data, axis=1, keepdims=True)\n",
        "\n",
        "    def feed_forward(self, input_data):\n",
        "        self.A, self.H = [input_data], [input_data]\n",
        "\n",
        "        for i in range(self.hidden_layers):\n",
        "            self.A.append(self.bias[i] + np.matmul(self.H[-1], self.weights[i]))\n",
        "            self.H.append(self.apply_activation(self.A[-1]))\n",
        "\n",
        "        self.A.append(self.bias[-1] + np.matmul(self.H[-1], self.weights[-1]))\n",
        "        self.H.append(self.apply_output_activation(self.A[-1]))\n",
        "\n",
        "        return self.H[-1]\n",
        "\n"
      ]
    },
    {
      "cell_type": "code",
      "execution_count": null,
      "metadata": {
        "id": "huC7omDR0uG3"
      },
      "outputs": [],
      "source": [
        "# #for testting forward neural network\n",
        "# PARAMETERS = {\n",
        "#     'inpt_sz' : 784,\n",
        "#     'oupt_sz' : 10,\n",
        "#     'neurons' : 32,\n",
        "#     'hidden_lyrs' : 4,\n",
        "#     'activation' : 'sigmoid',\n",
        "#     'oupt_activation' : 'softmax',\n",
        "#     'dataset' : 'fashion_mnist',\n",
        "#     'weight_initialisation': 'xavier',\n",
        "# }"
      ]
    },
    {
      "cell_type": "code",
      "execution_count": null,
      "metadata": {
        "colab": {
          "base_uri": "https://localhost:8080/"
        },
        "id": "1_7Pf4Zp0yXw",
        "outputId": "1971308f-0d7c-49ef-e602-891c7782f0f6"
      },
      "outputs": [
        {
          "name": "stdout",
          "output_type": "stream",
          "text": [
            "[0.09378197 0.0032208  0.02158916 0.02577825 0.05529606 0.05806508\n",
            " 0.56901614 0.03169456 0.06032822 0.08122977]\n"
          ]
        }
      ],
      "source": [
        "nn = FF_NN(PARAMETERS)\n",
        "x_train, y_train = load_data(PARAMETERS['dataset'], 'train')\n",
        "prediction = nn.feed_forward(x_train) # shape of xtrain -> 60000,784\n",
        "print(prediction[0])"
      ]
    },
    {
      "cell_type": "code",
      "execution_count": 5,
      "metadata": {
        "id": "SaPMm7fARdy-"
      },
      "outputs": [],
      "source": [
        "#Question 3\n",
        "#backpropogation\n",
        "\n",
        "class BP_NN:\n",
        "  def __init__(self, ff_nn: FF_NN, param):\n",
        "        self.ff_nn = ff_nn\n",
        "        self.loss = param['loss_function']\n",
        "        self.activation = param['activation']\n",
        "        self.output_activation = param['oupt_activation']\n",
        "\n",
        "  def der_actvtn(self, x):\n",
        "        act = self.activation.lower()\n",
        "        if act == \"sigmoid\":\n",
        "            return x * (1 - x)\n",
        "        elif act == \"tanh\":\n",
        "            return 1 - x ** 2\n",
        "        elif act == \"relu\":\n",
        "            return (x > 0).astype(int)\n",
        "        elif act == \"identity\":\n",
        "            return np.ones_like(x)\n",
        "\n",
        "  def der_ls(self, y, yp):\n",
        "    ls = self.loss.lower()\n",
        "    if ls == \"mean_squared_error\":\n",
        "      return yp - y\n",
        "    elif ls == \"cross_entropy\":\n",
        "      return -y / yp\n",
        "\n",
        "  def der_outpt_actvtn(self, yp):\n",
        "    act = self.output_activation.lower()\n",
        "    if act == \"softmax\":\n",
        "      return np.diag(yp) - np.outer(yp, yp)\n",
        "\n",
        "\n",
        "  def propogate_backward(self, y, y_pred):  # y=60000,10   y_pred=60000,10\n",
        "    self.d_h, self.d_a, self.delta_weights, self.delta_bias = [], [], [], []\n",
        "    der_outpt_mat = []\n",
        "\n",
        "    self.d_h.append(self.der_ls(y, y_pred))\n",
        "    for i in range(y_pred.shape[0]):\n",
        "        der_outpt_mat.append(np.matmul(self.der_ls(y[i], y_pred[i]), self.der_outpt_actvtn(y_pred[i])))\n",
        "    der_outpt_arr = np.array(der_outpt_mat)\n",
        "    self.d_a.append(der_outpt_arr)\n",
        "    # self.d_a.append(y_pred-y)\n",
        "\n",
        "    for i in range(self.ff_nn.hidden_layers, 0, -1):\n",
        "      self.delta_weights.append(np.matmul(self.ff_nn.H[i].T, self.d_a[-1]))\n",
        "      self.delta_bias.append(np.sum(self.d_a[-1], axis=0))\n",
        "      self.d_h.append(np.matmul(self.d_a[-1], self.ff_nn.weights[i].T))\n",
        "      self.d_a.append(self.d_h[-1] * self.der_actvtn(self.ff_nn.H[i]))\n",
        "\n",
        "    self.delta_weights.append(np.matmul(self.ff_nn.H[0].T, self.d_a[-1]))\n",
        "    self.delta_weights.reverse()\n",
        "    self.delta_bias.append(np.sum(self.d_a[-1], axis=0))\n",
        "    self.delta_bias.reverse()\n",
        "\n",
        "    for i in range(len(self.delta_bias)):\n",
        "      self.delta_weights[i] /= y.shape[0]\n",
        "      self.delta_bias[i] /= y.shape[0]\n",
        "\n",
        "    return self.delta_weights, self.delta_bias"
      ]
    },
    {
      "cell_type": "code",
      "execution_count": 6,
      "metadata": {
        "id": "KAC95_CCS9MY"
      },
      "outputs": [],
      "source": [
        "#Q3 part-B\n",
        "#optimizers\n",
        "\n",
        "class Optimizer():\n",
        "  def __init__(\n",
        "      self,\n",
        "      ff_nn: FF_NN,\n",
        "      bp_nn: BP_NN,\n",
        "      param\n",
        "  ):\n",
        "    self.ff_nn, self.bp_nn, self.lr, self.optimizer, self.momentum, self.decay = ff_nn, bp_nn, param['learning_rate'], param['optimizer'], param['momentum'], param['decay']\n",
        "    self.B1, self.B2, self.eps, self.t = param['beta1'], param['beta2'], param['epsilon'], 0\n",
        "    self.b_history = [np.zeros_like(i) for i in self.ff_nn.bias]\n",
        "    self.b_hm = [np.zeros_like(i) for i in self.ff_nn.bias]\n",
        "    self.w_history = [np.zeros_like(i) for i in self.ff_nn.weights]\n",
        "    self.w_hm = [np.zeros_like(i) for i in self.ff_nn.weights]\n",
        "\n",
        "\n",
        "  def optimize(self, delta_weights, delta_bias):\n",
        "    opt = self.optimizer.lower()\n",
        "    if(opt == \"sgd\"):\n",
        "      self.SGD(delta_weights, delta_bias)\n",
        "    elif(opt == \"momentum\"):\n",
        "      self.MGD(delta_weights, delta_bias)\n",
        "    elif(opt == \"nesterov\"):\n",
        "      self.NAG(delta_weights, delta_bias)\n",
        "    elif(opt == \"rmsprop\"):\n",
        "      self.RMSPROP(delta_weights, delta_bias)\n",
        "    elif(opt == \"adam\"):\n",
        "      self.ADAM(delta_weights, delta_bias)\n",
        "    elif(opt == \"nadam\"):\n",
        "      self.NADAM(delta_weights, delta_bias)\n",
        "\n",
        "\n",
        "\n",
        "  def SGD(self, delta_weights, delta_bias):\n",
        "    for i in range(self.ff_nn.hidden_layers + 1):\n",
        "      self.ff_nn.weights[i] -= self.lr * (delta_weights[i] + self.ff_nn.weights[i]*self.decay)\n",
        "      self.ff_nn.bias[i] -= self.lr * (delta_bias[i] + self.ff_nn.bias[i]*self.decay)\n",
        "\n",
        "  def MGD(self, delta_weights, delta_bias):\n",
        "    for i in range(self.ff_nn.hidden_layers + 1):\n",
        "      self.w_history[i] = self.momentum * self.w_history[i] + delta_weights[i]\n",
        "      self.ff_nn.weights[i] -= self.lr * (self.w_history[i] + self.ff_nn.weights[i]*self.decay)\n",
        "      self.b_history[i] = self.momentum * self.b_history[i] + delta_bias[i]\n",
        "      self.ff_nn.bias[i] -= self.lr * (self.b_history[i] + self.ff_nn.bias[i]*self.decay)\n",
        "\n",
        "  def NAG(self, delta_weights, delta_bias):\n",
        "    for i in range(self.ff_nn.hidden_layers + 1):\n",
        "      self.w_history[i] = self.momentum * self.w_history[i] + delta_weights[i]\n",
        "      self.ff_nn.weights[i] -= self.lr * (self.momentum * self.w_history[i] + delta_weights[i] + self.ff_nn.weights[i]*self.decay)\n",
        "      self.b_history[i] = self.momentum * self.b_history[i] + delta_bias[i]\n",
        "      self.ff_nn.bias[i] -= self.lr * (self.momentum * self.b_history[i] + delta_bias[i] + self.ff_nn.bias[i]*self.decay)\n",
        "\n",
        "\n",
        "  def RMSPROP(self, delta_weights, delta_bias):\n",
        "    for i in range(self.ff_nn.hidden_layers + 1):\n",
        "      self.w_history[i] = self.w_history[i]*self.momentum + (1-self.momentum)*delta_weights[i]**2\n",
        "      self.ff_nn.weights[i] -= delta_weights[i]*(self.lr / (np.sqrt(self.w_history[i]) + self.eps)) + self.decay * self.ff_nn.weights[i] * self.lr\n",
        "      self.b_history[i] = self.b_history[i]*self.momentum + (1-self.momentum)*delta_bias[i]**2\n",
        "      self.ff_nn.bias[i] -= delta_bias[i]*(self.lr / (np.sqrt(self.b_history[i]) + self.eps)) + self.decay * self.ff_nn.bias[i] * self.lr\n",
        "\n",
        "  def ADAM(self, delta_weights, delta_bias):\n",
        "    for i in range(self.ff_nn.hidden_layers + 1):\n",
        "      self.w_hm[i] = self.B1 * self.w_hm[i] + (1 - self.B1) * delta_weights[i]\n",
        "      self.w_history[i] = self.B2 * self.w_history[i] + (1 - self.B2) * delta_weights[i]**2\n",
        "      self.w_hat_hm = self.w_hm[i] / (1 - self.B1**(self.t + 1))\n",
        "      self.w_history_hat = self.w_history[i] / (1 - self.B2**(self.t + 1))\n",
        "      self.ff_nn.weights[i] -= self.lr * (self.w_hat_hm / ((np.sqrt(self.w_history_hat)) + self.eps) + self.decay * self.ff_nn.weights[i])\n",
        "\n",
        "      self.b_hm[i] = self.B1 * self.b_hm[i] + (1 - self.B1) * delta_bias[i]\n",
        "      self.b_history[i] = self.B2 * self.b_history[i] + (1 - self.B2) * delta_bias[i]**2\n",
        "      self.b_hat_hm = self.b_hm[i] / (1 - self.B1**(1+self.t))\n",
        "      self.h_hat_b = self.b_history[i] / (1 - self.B2**(1+self.t))\n",
        "      self.ff_nn.bias[i] -= self.lr * (self.b_hat_hm / ((np.sqrt(self.h_hat_b)) + self.eps) + self.decay * self.ff_nn.bias[i])\n",
        "\n",
        "\n",
        "  def NADAM(self, delta_weights, delta_bias):\n",
        "    for i in range(self.ff_nn.hidden_layers + 1):\n",
        "      self.w_hm[i] = self.B1 * self.w_hm[i] + (1 - self.B1) * delta_weights[i]\n",
        "      self.w_hat_hm = self.w_hm[i] / (1 - self.B1 ** (self.t + 1))\n",
        "      self.w_history[i] = self.B2 * self.w_history[i] + (1 - self.B2) * delta_weights[i]**2\n",
        "      self.w_history_hat = self.w_history[i] / (1 - self.B2 ** (self.t + 1))\n",
        "      w_temp = self.B1 * self.w_hat_hm + ((1 - self.B1) / (1 - self.B1 ** (self.t + 1))) * delta_weights[i]\n",
        "      self.ff_nn.weights[i] -= self.lr * (w_temp / ((np.sqrt(self.w_history_hat)) + self.eps) + self.decay * self.ff_nn.weights[i])\n",
        "\n",
        "\n",
        "      self.b_hm[i] = self.B1 * self.b_hm[i] + (1 - self.B1) * delta_bias[i]\n",
        "      self.b_hat_hm = self.b_hm[i] / (1 - self.B1 ** (self.t + 1))\n",
        "      self.b_history[i] = self.B2 * self.b_history[i] + (1 - self.B2) * delta_bias[i]**2\n",
        "      self.h_hat_b = self.b_history[i] / (1 - self.B2 ** (self.t + 1))\n",
        "      b_temp = self.B1 * self.b_hat_hm + ((1 - self.B1) / (1 - self.B1 ** (self.t + 1))) * delta_bias[i]\n",
        "      self.ff_nn.bias[i] -= self.lr * (b_temp / ((np.sqrt(self.h_hat_b)) + self.eps) + self.decay * self.ff_nn.bias[i])\n",
        "\n"
      ]
    },
    {
      "cell_type": "code",
      "execution_count": 7,
      "metadata": {
        "id": "J_nkm94GtXeS"
      },
      "outputs": [],
      "source": [
        "#loss function\n",
        "def calculate_loss(y, y_pred, loss_function):\n",
        "  ls_fn = loss_function.lower()\n",
        "  if ls_fn == \"mean_squared_error\":\n",
        "    return np.sum((y_pred-y) ** 2) / y.shape[0]\n",
        "  elif ls_fn == \"cross_entropy\":\n",
        "    return (-np.sum(y * np.log(y_pred))) / y.shape[0]"
      ]
    },
    {
      "cell_type": "code",
      "execution_count": 24,
      "metadata": {
        "id": "9tn7NQUqcb1f"
      },
      "outputs": [],
      "source": [
        "# def train():\n",
        "#   wandb.init()\n",
        "#   PARAMETERS = wandb.config\n",
        "#   wandb.run.name = f'Hidden_{PARAMETERS.hidden_lyrs}_Batch_{PARAMETERS.batch_sz}_ACT_{PARAMETERS.activation}'\n",
        "\n",
        "#   x_train, y_train = load_data(PARAMETERS['dataset'], 'train')\n",
        "#   np.random.seed(7)\n",
        "#   ff_nn = FF_NN(PARAMETERS)\n",
        "#   bp_nn = BP_NN(ff_nn, PARAMETERS)\n",
        "#   opt = Optimizer(ff_nn, bp_nn, PARAMETERS)\n",
        "#   print(\"Initial Accuracy: {}\".format(np.sum(np.argmax(ff_nn.feed_forward(x_train), axis=1) == np.argmax(y_train, axis=1)) / y_train.shape[0]))\n",
        "#   batch_size = PARAMETERS['batch_sz']\n",
        "\n",
        "#   x_train, x_train_t, y_train, y_train_t = train_test_split(x_train, y_train, test_size=0.1, random_state=7)\n",
        "\n",
        "#   for epoch in range(PARAMETERS['epochs']):\n",
        "#     for i in range(0, x_train.shape[0], batch_size):\n",
        "#       y_batch = y_train[i:i+batch_size]\n",
        "#       x_batch = x_train[i:i+batch_size]\n",
        "#       opt.optimize(*bp_nn.propogate_backward(y_batch, ff_nn.feed_forward(x_batch)))\n",
        "\n",
        "#     opt.t += 1\n",
        "#     y_pred = ff_nn.feed_forward(x_train)\n",
        "#     y_pred_t = ff_nn.feed_forward(x_train_t)\n",
        "#     print(\"epoch- \",epoch+1)\n",
        "#     print(\"accuracy- \",np.sum(np.argmax(y_pred, axis=1) == np.argmax(y_train, axis=1)) / y_train.shape[0])\n",
        "#     print(\"loss- \", calculate_loss(y_train, y_pred, PARAMETERS['loss_function']))\n",
        "#     print(\"validation- \",np.sum(np.argmax(y_pred_t, axis=1) == np.argmax(y_train_t, axis=1)) / y_train_t.shape[0])\n",
        "\n",
        "\n",
        "#     lg={\n",
        "#         'accuracy':np.sum(np.argmax(y_pred, axis=1) == np.argmax(y_train, axis=1)) / y_train.shape[0],\n",
        "#         'val_accuracy':np.sum(np.argmax(y_pred_t, axis=1) == np.argmax(y_train_t, axis=1)) / y_train_t.shape[0],\n",
        "#         'epoch':epoch+1,\n",
        "#         'loss':calculate_loss(y_train, y_pred, PARAMETERS['loss_function']),\n",
        "#         'validation_loss':calculate_loss(y_train_t, y_pred_t, PARAMETERS['loss_function'])\n",
        "#     }\n",
        "#     wandb.log(lg)\n",
        "\n",
        "\n",
        "#   return ff_nn\n",
        "\n"
      ]
    },
    {
      "cell_type": "code",
      "execution_count": 29,
      "metadata": {
        "id": "yptsBT5q3URF"
      },
      "outputs": [],
      "source": [
        "# sweep_config = {\n",
        "#     \"method\": \"bayes\",\n",
        "#     \"name\": \"Q4 WandB sweep\",\n",
        "#     \"metric\": {\"goal\": \"minimize\", \"name\": \"validation_loss\"},\n",
        "#     \"parameters\": {\n",
        "#         \"inpt_sz\": {\"values\": [784]},\n",
        "#         \"oupt_sz\": {\"values\": [10]},\n",
        "#         \"oupt_activation\": {\"values\": [\"softmax\"]},\n",
        "#         \"dataset\": {\"values\": [\"fashion_mnist\"]},\n",
        "#         \"loss_function\": {\"values\": [\"cross_entropy\"]},\n",
        "#         \"beta\": {\"values\": [0.9]},\n",
        "#         \"beta1\": {\"values\": [0.9]},\n",
        "#         \"beta2\": {\"values\": [0.999]},\n",
        "#         \"neurons\": {\"values\": [32, 64, 128]},\n",
        "#         \"hidden_lyrs\": {\"values\": [3, 4, 5]},\n",
        "#         \"activation\": {\"values\": [\"relu\", \"tanh\", \"sigmoid\"]},\n",
        "#         \"learning_rate\": {\"values\": [1e-3, 1e-4]},\n",
        "#         \"optimizer\": {\"values\": ['adam', 'sgd', 'nesterov', 'rmsprop', 'momentum', 'nadam']},\n",
        "#         \"momentum\": {\"values\": [0.8, 0.9]},\n",
        "#         \"batch_sz\": {\"values\": [16, 32, 64]},\n",
        "#         \"epochs\": {\"values\": [5, 10]},\n",
        "#         \"weight_initialisation\": {\"values\": [\"random\", \"xavier\"]},\n",
        "#         \"decay\": {\"values\": [0, 0.0005, 0.5]},\n",
        "#         \"epsilon\": {\"values\": [1e-8, 1e-10]},\n",
        "#     }\n",
        "# }\n"
      ]
    },
    {
      "cell_type": "code",
      "execution_count": 27,
      "metadata": {
        "colab": {
          "base_uri": "https://localhost:8080/"
        },
        "id": "p84CYOLi3YqY",
        "outputId": "540b15df-1d64-43f7-8b90-824468e42153"
      },
      "outputs": [
        {
          "output_type": "stream",
          "name": "stdout",
          "text": [
            "Create sweep with ID: hnycr6fi\n",
            "Sweep URL: https://wandb.ai/parthiv1933-indian-institute-of-technology-madras/DA6401_Assignment_1/sweeps/hnycr6fi\n"
          ]
        }
      ],
      "source": [
        "# sweep_id = wandb.sweep(sweep_config, project=\"DA6401_Assignment_1\")"
      ]
    },
    {
      "cell_type": "code",
      "execution_count": 31,
      "metadata": {
        "id": "ZM2SFS4z58Sn"
      },
      "outputs": [],
      "source": [
        "#  wandb.agent(sweep_id, function=train, count=190)\n",
        "# wandb.finish()"
      ]
    },
    {
      "cell_type": "code",
      "source": [
        "#Question-7\n",
        "def train(PARAMETERS):\n",
        "  # wandb.init()\n",
        "  # PARAMETERS = wandb.config\n",
        "  # wandb.run.name = f'hl_{PARAMETERS.hidden_lyrs}_bs_{PARAMETERS.batch_sz}_ac_{PARAMETERS.activation}'\n",
        "\n",
        "  x_train, y_train = load_data(PARAMETERS['dataset'], 'train')\n",
        "  np.random.seed(7)\n",
        "  ff_nn = FF_NN(PARAMETERS)\n",
        "  bp_nn = BP_NN(ff_nn, PARAMETERS)\n",
        "  opt = Optimizer(ff_nn, bp_nn, PARAMETERS)\n",
        "  print(\"Initial Accuracy: {}\".format(np.sum(np.argmax(ff_nn.feed_forward(x_train), axis=1) == np.argmax(y_train, axis=1)) / y_train.shape[0]))\n",
        "  batch_size = PARAMETERS['batch_sz']\n",
        "\n",
        "  x_train, x_train_t, y_train, y_train_t = train_test_split(x_train, y_train, test_size=0.1, random_state=7)\n",
        "\n",
        "  for epoch in range(PARAMETERS['epochs']):\n",
        "    for i in range(0, x_train.shape[0], batch_size):\n",
        "      y_batch = y_train[i:i+batch_size]\n",
        "      x_batch = x_train[i:i+batch_size]\n",
        "      opt.optimize(*bp_nn.propogate_backward(y_batch, ff_nn.feed_forward(x_batch)))\n",
        "\n",
        "    opt.t += 1\n",
        "    y_pred = ff_nn.feed_forward(x_train)\n",
        "    y_pred_t = ff_nn.feed_forward(x_train_t)\n",
        "    print(\"epoch-\",epoch+1)\n",
        "    print(\"accuracy-\",np.sum(np.argmax(y_pred, axis=1) == np.argmax(y_train, axis=1)) / y_train.shape[0])\n",
        "    print(\"loss-\", calculate_loss(y_train, y_pred, PARAMETERS['loss_function']))\n",
        "    print(\"validation-\",np.sum(np.argmax(y_pred_t, axis=1) == np.argmax(y_train_t, axis=1)) / y_train_t.shape[0])\n",
        "\n",
        "\n",
        "    # lg={\n",
        "    #     'accuracy':np.sum(np.argmax(y_pred, axis=1) == np.argmax(y_train, axis=1)) / y_train.shape[0],\n",
        "    #     'val_accuracy':np.sum(np.argmax(y_pred_t, axis=1) == np.argmax(y_train_t, axis=1)) / y_train_t.shape[0],\n",
        "    #     'epoch':epoch+1,\n",
        "    #     'loss':calculate_loss(y_train, y_pred, PARAMETERS['loss_function']),\n",
        "    #     'validation_loss':calculate_loss(y_train_t, y_pred_t, PARAMETERS['loss_function'])\n",
        "    # }\n",
        "    # wandb.log(lg)\n",
        "\n",
        "\n",
        "  return ff_nn\n",
        "\n"
      ],
      "metadata": {
        "id": "D3P99o-ajtAP"
      },
      "execution_count": 8,
      "outputs": []
    },
    {
      "cell_type": "code",
      "source": [
        "#Question-7\n",
        "\n",
        "# For Best Validation Accuracy\n",
        "PARAMETERS = {\n",
        "    'inpt_sz' : 784,\n",
        "    'oupt_sz' : 10,\n",
        "    'neurons' : 128,\n",
        "    'hidden_lyrs' : 4,\n",
        "    'activation' : 'tanh',\n",
        "    'oupt_activation' : 'softmax',\n",
        "    'dataset' : 'fashion_mnist',\n",
        "    'loss_function': 'cross_entropy',\n",
        "    'learning_rate': 0.001,\n",
        "    'optimizer': 'nadam',\n",
        "    'momentum': 0.9,\n",
        "    'batch_sz': 16,\n",
        "    'epochs': 10,\n",
        "    'weight_initialisation': 'xavier',\n",
        "    'decay': 0.0005,\n",
        "    'beta': 0.9,\n",
        "    'beta1': 0.9,\n",
        "    'beta2': 0.999,\n",
        "    'epsilon': 1e-10\n",
        "}"
      ],
      "metadata": {
        "id": "Y1jTu1xdg6s8"
      },
      "execution_count": 9,
      "outputs": []
    },
    {
      "cell_type": "code",
      "source": [
        "model = train(PARAMETERS)"
      ],
      "metadata": {
        "colab": {
          "base_uri": "https://localhost:8080/"
        },
        "id": "YZAA4xT-jXCp",
        "outputId": "30a3c56b-5e48-43c0-e9a2-4292e51bfe59"
      },
      "execution_count": 10,
      "outputs": [
        {
          "output_type": "stream",
          "name": "stdout",
          "text": [
            "Downloading data from https://storage.googleapis.com/tensorflow/tf-keras-datasets/train-labels-idx1-ubyte.gz\n",
            "\u001b[1m29515/29515\u001b[0m \u001b[32m━━━━━━━━━━━━━━━━━━━━\u001b[0m\u001b[37m\u001b[0m \u001b[1m0s\u001b[0m 0us/step\n",
            "Downloading data from https://storage.googleapis.com/tensorflow/tf-keras-datasets/train-images-idx3-ubyte.gz\n",
            "\u001b[1m26421880/26421880\u001b[0m \u001b[32m━━━━━━━━━━━━━━━━━━━━\u001b[0m\u001b[37m\u001b[0m \u001b[1m0s\u001b[0m 0us/step\n",
            "Downloading data from https://storage.googleapis.com/tensorflow/tf-keras-datasets/t10k-labels-idx1-ubyte.gz\n",
            "\u001b[1m5148/5148\u001b[0m \u001b[32m━━━━━━━━━━━━━━━━━━━━\u001b[0m\u001b[37m\u001b[0m \u001b[1m0s\u001b[0m 0us/step\n",
            "Downloading data from https://storage.googleapis.com/tensorflow/tf-keras-datasets/t10k-images-idx3-ubyte.gz\n",
            "\u001b[1m4422102/4422102\u001b[0m \u001b[32m━━━━━━━━━━━━━━━━━━━━\u001b[0m\u001b[37m\u001b[0m \u001b[1m0s\u001b[0m 0us/step\n",
            "Initial Accuracy: 0.12478333333333333\n",
            "epoch- 1\n",
            "accuracy- 0.8667037037037038\n",
            "loss- 0.3630093596848399\n",
            "validation- 0.859\n",
            "epoch- 2\n",
            "accuracy- 0.8811111111111111\n",
            "loss- 0.3213985467970788\n",
            "validation- 0.8653333333333333\n",
            "epoch- 3\n",
            "accuracy- 0.8895555555555555\n",
            "loss- 0.29702553102236806\n",
            "validation- 0.8725\n",
            "epoch- 4\n",
            "accuracy- 0.8971481481481481\n",
            "loss- 0.27871996384340775\n",
            "validation- 0.8778333333333334\n",
            "epoch- 5\n",
            "accuracy- 0.9026111111111111\n",
            "loss- 0.26433914710438244\n",
            "validation- 0.8805\n",
            "epoch- 6\n",
            "accuracy- 0.9067222222222222\n",
            "loss- 0.25261888114780623\n",
            "validation- 0.8833333333333333\n",
            "epoch- 7\n",
            "accuracy- 0.9105555555555556\n",
            "loss- 0.24281085577057415\n",
            "validation- 0.885\n",
            "epoch- 8\n",
            "accuracy- 0.9133703703703704\n",
            "loss- 0.234264060460113\n",
            "validation- 0.8858333333333334\n",
            "epoch- 9\n",
            "accuracy- 0.9158888888888889\n",
            "loss- 0.22653538231086298\n",
            "validation- 0.8865\n",
            "epoch- 10\n",
            "accuracy- 0.9187037037037037\n",
            "loss- 0.21971848214192355\n",
            "validation- 0.8871666666666667\n"
          ]
        }
      ]
    },
    {
      "cell_type": "code",
      "source": [
        "classes = [\"T-shirt/top\", \"Trouser\", \"Pullover\", \"Dress\", \"Coat\",\n",
        "               \"Sandal\", \"Shirt\", \"Sneaker\", \"Bag\", \"Ankle boot\"]\n",
        "def plot_confusion_mat(y, y_pred):\n",
        "  import pandas as pd\n",
        "  import seaborn as sn\n",
        "  mp = np.zeros((len(classes),len(classes)))\n",
        "  for i,j in zip(y, y_pred):\n",
        "    mp[np.argmax(i)][np.argmax(j)]+=1\n",
        "\n",
        "  df_cm = pd.DataFrame(mp, [i for i in classes], [i for i in classes])\n",
        "  plt.figure(figsize=(12,12))\n",
        "  sn.set(font_scale=1) # for label size\n",
        "  sn.heatmap(df_cm, annot=True, annot_kws={\"size\": 7}, cmap='inferno', fmt='g')\n",
        "  plt.xlabel('Prediction')\n",
        "  plt.ylabel('Actual')\n",
        "\n",
        "  wandb.init(project=\"DA6401_Assignment_1\")\n",
        "  wandb.run.name = f'Q-7 Confusion Matrix'\n",
        "  wandb.log({\"plot\":wandb.Image(plt)})\n",
        "  wandb.finish()\n"
      ],
      "metadata": {
        "id": "p6v2eq1njaRH"
      },
      "execution_count": 24,
      "outputs": []
    },
    {
      "cell_type": "code",
      "source": [
        "x_test, y_test = load_data(PARAMETERS['dataset'], 'test')\n",
        "prediction = model.feed_forward(x_test)\n",
        "print(\"Test Accuracy-\",np.sum(np.argmax(prediction, axis=1) == np.argmax(y_test, axis=1)) / y_test.shape[0])\n",
        "\n",
        "plot_confusion_mat(y_test, prediction)"
      ],
      "metadata": {
        "colab": {
          "base_uri": "https://localhost:8080/",
          "height": 1000
        },
        "id": "3F6-zCHrjcQ-",
        "outputId": "1606df3e-81f1-4c57-f5fd-8080ba2a6c72"
      },
      "execution_count": 27,
      "outputs": [
        {
          "output_type": "stream",
          "name": "stdout",
          "text": [
            "Test Accuracy- 0.8812\n"
          ]
        },
        {
          "output_type": "display_data",
          "data": {
            "text/plain": [
              "<IPython.core.display.HTML object>"
            ],
            "text/html": [
              "Tracking run with wandb version 0.19.7"
            ]
          },
          "metadata": {}
        },
        {
          "output_type": "display_data",
          "data": {
            "text/plain": [
              "<IPython.core.display.HTML object>"
            ],
            "text/html": [
              "Run data is saved locally in <code>/content/wandb/run-20250309_211024-obau50my</code>"
            ]
          },
          "metadata": {}
        },
        {
          "output_type": "display_data",
          "data": {
            "text/plain": [
              "<IPython.core.display.HTML object>"
            ],
            "text/html": [
              "Syncing run <strong><a href='https://wandb.ai/parthiv1933-indian-institute-of-technology-madras/DA6401_Assignment_1/runs/obau50my' target=\"_blank\">robust-dawn-541</a></strong> to <a href='https://wandb.ai/parthiv1933-indian-institute-of-technology-madras/DA6401_Assignment_1' target=\"_blank\">Weights & Biases</a> (<a href='https://wandb.me/developer-guide' target=\"_blank\">docs</a>)<br>"
            ]
          },
          "metadata": {}
        },
        {
          "output_type": "display_data",
          "data": {
            "text/plain": [
              "<IPython.core.display.HTML object>"
            ],
            "text/html": [
              " View project at <a href='https://wandb.ai/parthiv1933-indian-institute-of-technology-madras/DA6401_Assignment_1' target=\"_blank\">https://wandb.ai/parthiv1933-indian-institute-of-technology-madras/DA6401_Assignment_1</a>"
            ]
          },
          "metadata": {}
        },
        {
          "output_type": "display_data",
          "data": {
            "text/plain": [
              "<IPython.core.display.HTML object>"
            ],
            "text/html": [
              " View run at <a href='https://wandb.ai/parthiv1933-indian-institute-of-technology-madras/DA6401_Assignment_1/runs/obau50my' target=\"_blank\">https://wandb.ai/parthiv1933-indian-institute-of-technology-madras/DA6401_Assignment_1/runs/obau50my</a>"
            ]
          },
          "metadata": {}
        },
        {
          "output_type": "display_data",
          "data": {
            "text/plain": [
              "<IPython.core.display.HTML object>"
            ],
            "text/html": []
          },
          "metadata": {}
        },
        {
          "output_type": "display_data",
          "data": {
            "text/plain": [
              "<IPython.core.display.HTML object>"
            ],
            "text/html": [
              " View run <strong style=\"color:#cdcd00\">Q-7 Confusion Matrix</strong> at: <a href='https://wandb.ai/parthiv1933-indian-institute-of-technology-madras/DA6401_Assignment_1/runs/obau50my' target=\"_blank\">https://wandb.ai/parthiv1933-indian-institute-of-technology-madras/DA6401_Assignment_1/runs/obau50my</a><br> View project at: <a href='https://wandb.ai/parthiv1933-indian-institute-of-technology-madras/DA6401_Assignment_1' target=\"_blank\">https://wandb.ai/parthiv1933-indian-institute-of-technology-madras/DA6401_Assignment_1</a><br>Synced 5 W&B file(s), 1 media file(s), 0 artifact file(s) and 0 other file(s)"
            ]
          },
          "metadata": {}
        },
        {
          "output_type": "display_data",
          "data": {
            "text/plain": [
              "<IPython.core.display.HTML object>"
            ],
            "text/html": [
              "Find logs at: <code>./wandb/run-20250309_211024-obau50my/logs</code>"
            ]
          },
          "metadata": {}
        },
        {
          "output_type": "display_data",
          "data": {
            "text/plain": [
              "<Figure size 1200x1200 with 2 Axes>"
            ],
            "image/png": "[encoded data removed]"
          },
          "metadata": {}
        }
      ]
    }
  ],
  "metadata": {
    "colab": {
      "provenance": [],
      "authorship_tag": "ABX9TyPntyyDgeITe5a1cXE6HDiE",
      "include_colab_link": true
    },
    "kernelspec": {
      "display_name": "Python 3",
      "name": "python3"
    },
    "language_info": {
      "name": "python"
    }
  },
  "nbformat": 4,
  "nbformat_minor": 0
}